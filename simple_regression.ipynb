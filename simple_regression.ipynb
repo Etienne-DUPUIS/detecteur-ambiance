{
 "nbformat": 4,
 "nbformat_minor": 0,
 "metadata": {
  "colab": {
   "name": "Untitled4.ipynb",
   "provenance": [],
   "authorship_tag": "ABX9TyO7TOdfU9FL9OGlkZuqrzBR",
   "include_colab_link": true
  },
  "kernelspec": {
   "name": "python3",
   "display_name": "Python 3"
  },
  "accelerator": "GPU"
 },
 "cells": [
  {
   "cell_type": "markdown",
   "metadata": {
    "id": "view-in-github",
    "colab_type": "text"
   },
   "source": [
    "<a href=\"https://colab.research.google.com/github/Etienne-DUPUIS/detecteur-ambiance/blob/main/simple_regression.ipynb\" target=\"_parent\"><img src=\"https://colab.research.google.com/assets/colab-badge.svg\" alt=\"Open In Colab\"/></a>"
   ]
  },
  {
   "cell_type": "markdown",
   "metadata": {
    "id": "_xutfmkr_n7L"
   },
   "source": [
    "# Train predictive model using Sensor data"
   ]
  },
  {
   "cell_type": "code",
   "metadata": {
    "id": "YyfkxkbNJ38h"
   },
   "source": [
    "import pandas as pd\n",
    "import numpy as np\n",
    "import tensorflow as tf\n",
    "import matplotlib.pyplot as plt\n"
   ],
   "execution_count": 19,
   "outputs": []
  },
  {
   "cell_type": "markdown",
   "metadata": {
    "id": "D67_H-ea_mrz"
   },
   "source": [
    "## Import & process data"
   ]
  },
  {
   "cell_type": "code",
   "metadata": {
    "id": "9Fk-gbbIJ5Ge",
    "colab": {
     "base_uri": "https://localhost:8080/",
     "height": 419
    },
    "outputId": "01489fb5-5ea0-4f09-aef0-41c6ab57bfa1"
   },
   "source": [
    "csv_file =\"/content/Tue Feb 23 12:59:45 2021.csv\"\n",
    "df = pd.read_csv(csv_file)\n",
    "df"
   ],
   "execution_count": 3,
   "outputs": [
    {
     "output_type": "execute_result",
     "data": {
      "text/html": [
       "<div>\n",
       "<style scoped>\n",
       "    .dataframe tbody tr th:only-of-type {\n",
       "        vertical-align: middle;\n",
       "    }\n",
       "\n",
       "    .dataframe tbody tr th {\n",
       "        vertical-align: top;\n",
       "    }\n",
       "\n",
       "    .dataframe thead th {\n",
       "        text-align: right;\n",
       "    }\n",
       "</style>\n",
       "<table border=\"1\" class=\"dataframe\">\n",
       "  <thead>\n",
       "    <tr style=\"text-align: right;\">\n",
       "      <th></th>\n",
       "      <th>Unnamed: 0</th>\n",
       "      <th>timestamp</th>\n",
       "      <th>Humidity</th>\n",
       "      <th>Temperature</th>\n",
       "      <th>Motion</th>\n",
       "    </tr>\n",
       "  </thead>\n",
       "  <tbody>\n",
       "    <tr>\n",
       "      <th>0</th>\n",
       "      <td>0</td>\n",
       "      <td>Tue Feb 23 12:59:45 2021</td>\n",
       "      <td>70.0</td>\n",
       "      <td>22.0</td>\n",
       "      <td>0</td>\n",
       "    </tr>\n",
       "    <tr>\n",
       "      <th>1</th>\n",
       "      <td>1</td>\n",
       "      <td>Tue Feb 23 12:59:45 2021</td>\n",
       "      <td>70.0</td>\n",
       "      <td>22.0</td>\n",
       "      <td>0</td>\n",
       "    </tr>\n",
       "    <tr>\n",
       "      <th>2</th>\n",
       "      <td>2</td>\n",
       "      <td>Tue Feb 23 12:59:45 2021</td>\n",
       "      <td>70.0</td>\n",
       "      <td>22.0</td>\n",
       "      <td>0</td>\n",
       "    </tr>\n",
       "    <tr>\n",
       "      <th>3</th>\n",
       "      <td>3</td>\n",
       "      <td>Tue Feb 23 12:59:45 2021</td>\n",
       "      <td>70.0</td>\n",
       "      <td>22.0</td>\n",
       "      <td>0</td>\n",
       "    </tr>\n",
       "    <tr>\n",
       "      <th>4</th>\n",
       "      <td>4</td>\n",
       "      <td>Tue Feb 23 12:59:45 2021</td>\n",
       "      <td>70.0</td>\n",
       "      <td>22.0</td>\n",
       "      <td>0</td>\n",
       "    </tr>\n",
       "    <tr>\n",
       "      <th>...</th>\n",
       "      <td>...</td>\n",
       "      <td>...</td>\n",
       "      <td>...</td>\n",
       "      <td>...</td>\n",
       "      <td>...</td>\n",
       "    </tr>\n",
       "    <tr>\n",
       "      <th>906</th>\n",
       "      <td>906</td>\n",
       "      <td>Tue Feb 23 12:59:55 2021</td>\n",
       "      <td>66.0</td>\n",
       "      <td>22.0</td>\n",
       "      <td>0</td>\n",
       "    </tr>\n",
       "    <tr>\n",
       "      <th>907</th>\n",
       "      <td>907</td>\n",
       "      <td>Tue Feb 23 12:59:55 2021</td>\n",
       "      <td>66.0</td>\n",
       "      <td>22.0</td>\n",
       "      <td>0</td>\n",
       "    </tr>\n",
       "    <tr>\n",
       "      <th>908</th>\n",
       "      <td>908</td>\n",
       "      <td>Tue Feb 23 12:59:55 2021</td>\n",
       "      <td>66.0</td>\n",
       "      <td>22.0</td>\n",
       "      <td>0</td>\n",
       "    </tr>\n",
       "    <tr>\n",
       "      <th>909</th>\n",
       "      <td>909</td>\n",
       "      <td>Tue Feb 23 12:59:55 2021</td>\n",
       "      <td>66.0</td>\n",
       "      <td>22.0</td>\n",
       "      <td>0</td>\n",
       "    </tr>\n",
       "    <tr>\n",
       "      <th>910</th>\n",
       "      <td>910</td>\n",
       "      <td>Tue Feb 23 12:59:55 2021</td>\n",
       "      <td>66.0</td>\n",
       "      <td>22.0</td>\n",
       "      <td>0</td>\n",
       "    </tr>\n",
       "  </tbody>\n",
       "</table>\n",
       "<p>911 rows × 5 columns</p>\n",
       "</div>"
      ],
      "text/plain": [
       "     Unnamed: 0                 timestamp  Humidity  Temperature  Motion\n",
       "0             0  Tue Feb 23 12:59:45 2021      70.0         22.0       0\n",
       "1             1  Tue Feb 23 12:59:45 2021      70.0         22.0       0\n",
       "2             2  Tue Feb 23 12:59:45 2021      70.0         22.0       0\n",
       "3             3  Tue Feb 23 12:59:45 2021      70.0         22.0       0\n",
       "4             4  Tue Feb 23 12:59:45 2021      70.0         22.0       0\n",
       "..          ...                       ...       ...          ...     ...\n",
       "906         906  Tue Feb 23 12:59:55 2021      66.0         22.0       0\n",
       "907         907  Tue Feb 23 12:59:55 2021      66.0         22.0       0\n",
       "908         908  Tue Feb 23 12:59:55 2021      66.0         22.0       0\n",
       "909         909  Tue Feb 23 12:59:55 2021      66.0         22.0       0\n",
       "910         910  Tue Feb 23 12:59:55 2021      66.0         22.0       0\n",
       "\n",
       "[911 rows x 5 columns]"
      ]
     },
     "metadata": {
      "tags": []
     },
     "execution_count": 3
    }
   ]
  },
  {
   "cell_type": "code",
   "metadata": {
    "colab": {
     "base_uri": "https://localhost:8080/",
     "height": 204
    },
    "id": "aatKcQmZ_1Xb",
    "outputId": "7ee7e0e1-6a32-41f2-de3c-651c3df6bb23"
   },
   "source": [
    "# Statistical study of input dataframe\n",
    "df[list(df.axes[1][2:])].aggregate({min, max, \"mean\", \"median\", \"std\"})"
   ],
   "execution_count": 22,
   "outputs": [
    {
     "output_type": "execute_result",
     "data": {
      "text/html": [
       "<div>\n",
       "<style scoped>\n",
       "    .dataframe tbody tr th:only-of-type {\n",
       "        vertical-align: middle;\n",
       "    }\n",
       "\n",
       "    .dataframe tbody tr th {\n",
       "        vertical-align: top;\n",
       "    }\n",
       "\n",
       "    .dataframe thead th {\n",
       "        text-align: right;\n",
       "    }\n",
       "</style>\n",
       "<table border=\"1\" class=\"dataframe\">\n",
       "  <thead>\n",
       "    <tr style=\"text-align: right;\">\n",
       "      <th></th>\n",
       "      <th>Humidity</th>\n",
       "      <th>Temperature</th>\n",
       "      <th>Motion</th>\n",
       "    </tr>\n",
       "  </thead>\n",
       "  <tbody>\n",
       "    <tr>\n",
       "      <th>min</th>\n",
       "      <td>66.000000</td>\n",
       "      <td>11.000000</td>\n",
       "      <td>0.0</td>\n",
       "    </tr>\n",
       "    <tr>\n",
       "      <th>max</th>\n",
       "      <td>161.000000</td>\n",
       "      <td>22.000000</td>\n",
       "      <td>0.0</td>\n",
       "    </tr>\n",
       "    <tr>\n",
       "      <th>median</th>\n",
       "      <td>66.000000</td>\n",
       "      <td>22.000000</td>\n",
       "      <td>0.0</td>\n",
       "    </tr>\n",
       "    <tr>\n",
       "      <th>mean</th>\n",
       "      <td>92.734358</td>\n",
       "      <td>18.993414</td>\n",
       "      <td>0.0</td>\n",
       "    </tr>\n",
       "    <tr>\n",
       "      <th>std</th>\n",
       "      <td>41.917104</td>\n",
       "      <td>4.905028</td>\n",
       "      <td>0.0</td>\n",
       "    </tr>\n",
       "  </tbody>\n",
       "</table>\n",
       "</div>"
      ],
      "text/plain": [
       "          Humidity  Temperature  Motion\n",
       "min      66.000000    11.000000     0.0\n",
       "max     161.000000    22.000000     0.0\n",
       "median   66.000000    22.000000     0.0\n",
       "mean     92.734358    18.993414     0.0\n",
       "std      41.917104     4.905028     0.0"
      ]
     },
     "metadata": {
      "tags": []
     },
     "execution_count": 22
    }
   ]
  },
  {
   "cell_type": "code",
   "metadata": {
    "colab": {
     "base_uri": "https://localhost:8080/",
     "height": 265
    },
    "id": "dqbn7drVGSGi",
    "outputId": "15c95137-ef33-490f-8e72-afdea770c7ca"
   },
   "source": [
    "df[list(df.axes[1][2:])].plot()\n",
    "plt.show()"
   ],
   "execution_count": 23,
   "outputs": [
    {
     "output_type": "display_data",
     "data": {
      "image/png": "[encoded data removed]",
      "text/plain": [
       "<Figure size 432x288 with 1 Axes>"
      ]
     },
     "metadata": {
      "tags": [],
      "needs_background": "light"
     }
    }
   ]
  },
  {
   "cell_type": "markdown",
   "metadata": {
    "id": "kz_sSIPs_yZD"
   },
   "source": [
    "## Define & train model"
   ]
  },
  {
   "cell_type": "markdown",
   "metadata": {
    "id": "ODFRZrMr_mLN"
   },
   "source": [
    ""
   ]
  },
  {
   "cell_type": "markdown",
   "metadata": {
    "id": "ED0kArckHxtm"
   },
   "source": [
    "### Linear regression"
   ]
  },
  {
   "cell_type": "code",
   "metadata": {
    "colab": {
     "base_uri": "https://localhost:8080/",
     "height": 282
    },
    "id": "Aq9Y3qp4GsIz",
    "outputId": "a332bb2e-315c-4432-8092-ad0700f45645"
   },
   "source": [
    "from sklearn.linear_model import LinearRegression\n",
    "\n",
    "# linear regression\n",
    "y = df['Humidity'].to_numpy().reshape((-1,1))\n",
    "x = df['Temperature'].to_numpy().reshape((-1,1))\n",
    "\n",
    "model = LinearRegression()\n",
    "model.fit(x, y)\n",
    "\n",
    "r_sq = model.score(x, y)\n",
    "print('coefficient of determination:', r_sq)\n",
    "\n",
    "plt.plot(x, y, '+', label=\"real Humidity\")\n",
    "plt.plot(x, model.predict(x), '*', label=\"predicted Humidity\")\n",
    "plt.show()"
   ],
   "execution_count": 33,
   "outputs": [
    {
     "output_type": "stream",
     "text": [
      "coefficient of determination: 0.9987117354330204\n"
     ],
     "name": "stdout"
    },
    {
     "output_type": "display_data",
     "data": {
      "image/png": "[encoded data removed]",
      "text/plain": [
       "<Figure size 432x288 with 1 Axes>"
      ]
     },
     "metadata": {
      "tags": [],
      "needs_background": "light"
     }
    }
   ]
  }
 ]
}