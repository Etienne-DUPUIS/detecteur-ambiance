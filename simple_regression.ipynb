{
  "nbformat": 4,
  "nbformat_minor": 0,
  "metadata": {
    "colab": {
      "name": "Untitled4.ipynb",
      "provenance": [],
      "toc_visible": true,
      "authorship_tag": "ABX9TyP3cZBQO5SPrLNDryU0MaL+",
      "include_colab_link": true
    },
    "kernelspec": {
      "name": "python3",
      "display_name": "Python 3"
    },
    "accelerator": "GPU"
  },
  "cells": [
    {
      "cell_type": "markdown",
      "metadata": {
        "id": "view-in-github",
        "colab_type": "text"
      },
      "source": [
        "<a href=\"https://colab.research.google.com/github/Etienne-DUPUIS/detecteur-ambiance/blob/main/simple_regression.ipynb\" target=\"_parent\"><img src=\"https://colab.research.google.com/assets/colab-badge.svg\" alt=\"Open In Colab\"/></a>"
      ]
    },
    {
      "cell_type": "markdown",
      "metadata": {
        "id": "_xutfmkr_n7L"
      },
      "source": [
        "# Train predictive model using Sensor data"
      ]
    },
    {
      "cell_type": "code",
      "metadata": {
        "id": "YyfkxkbNJ38h"
      },
      "source": [
        "import pandas as pd\n",
        "import numpy as np\n",
        "import tensorflow as tf\n",
        "import matplotlib.pyplot as plt\n"
      ],
      "execution_count": 1,
      "outputs": []
    },
    {
      "cell_type": "markdown",
      "metadata": {
        "id": "D67_H-ea_mrz"
      },
      "source": [
        "## Import & process data"
      ]
    },
    {
      "cell_type": "code",
      "metadata": {
        "id": "9Fk-gbbIJ5Ge"
      },
      "source": [
        "df = pd.DataFrame()\n",
        "import os\n",
        "for root, dirs, files in os.walk(\"/content\"):\n",
        "    for filename in files:\n",
        "      if \"sensor_data\" in filename:\n",
        "        df = df.append(pd.read_csv(filename), ignore_index=True)"
      ],
      "execution_count": 38,
      "outputs": []
    },
    {
      "cell_type": "code",
      "metadata": {
        "colab": {
          "base_uri": "https://localhost:8080/",
          "height": 204
        },
        "id": "aatKcQmZ_1Xb",
        "outputId": "5bb5c817-0fac-4c13-d757-01ca8bcd6da8"
      },
      "source": [
        "# Statistical study of input dataframe\n",
        "df[list(df.axes[1][2:])].aggregate({min, max, \"mean\", \"median\", \"std\"})"
      ],
      "execution_count": 39,
      "outputs": [
        {
          "output_type": "execute_result",
          "data": {
            "text/html": [
              "<div>\n",
              "<style scoped>\n",
              "    .dataframe tbody tr th:only-of-type {\n",
              "        vertical-align: middle;\n",
              "    }\n",
              "\n",
              "    .dataframe tbody tr th {\n",
              "        vertical-align: top;\n",
              "    }\n",
              "\n",
              "    .dataframe thead th {\n",
              "        text-align: right;\n",
              "    }\n",
              "</style>\n",
              "<table border=\"1\" class=\"dataframe\">\n",
              "  <thead>\n",
              "    <tr style=\"text-align: right;\">\n",
              "      <th></th>\n",
              "      <th>Humidity</th>\n",
              "      <th>Temperature</th>\n",
              "      <th>Motion</th>\n",
              "      <th>AmbianceLevel</th>\n",
              "      <th>AmbianceType</th>\n",
              "    </tr>\n",
              "  </thead>\n",
              "  <tbody>\n",
              "    <tr>\n",
              "      <th>min</th>\n",
              "      <td>55.000000</td>\n",
              "      <td>11.000000</td>\n",
              "      <td>0.000000</td>\n",
              "      <td>15.000000</td>\n",
              "      <td>1.000000</td>\n",
              "    </tr>\n",
              "    <tr>\n",
              "      <th>mean</th>\n",
              "      <td>57.773995</td>\n",
              "      <td>19.345031</td>\n",
              "      <td>0.500015</td>\n",
              "      <td>49.002446</td>\n",
              "      <td>1.400298</td>\n",
              "    </tr>\n",
              "    <tr>\n",
              "      <th>max</th>\n",
              "      <td>61.000000</td>\n",
              "      <td>23.000000</td>\n",
              "      <td>1.000000</td>\n",
              "      <td>71.000000</td>\n",
              "      <td>3.000000</td>\n",
              "    </tr>\n",
              "    <tr>\n",
              "      <th>median</th>\n",
              "      <td>58.000000</td>\n",
              "      <td>22.000000</td>\n",
              "      <td>1.000000</td>\n",
              "      <td>47.000000</td>\n",
              "      <td>1.000000</td>\n",
              "    </tr>\n",
              "    <tr>\n",
              "      <th>std</th>\n",
              "      <td>1.045597</td>\n",
              "      <td>5.099088</td>\n",
              "      <td>0.500004</td>\n",
              "      <td>12.071265</td>\n",
              "      <td>0.521008</td>\n",
              "    </tr>\n",
              "  </tbody>\n",
              "</table>\n",
              "</div>"
            ],
            "text/plain": [
              "         Humidity  Temperature    Motion  AmbianceLevel  AmbianceType\n",
              "min     55.000000    11.000000  0.000000      15.000000      1.000000\n",
              "mean    57.773995    19.345031  0.500015      49.002446      1.400298\n",
              "max     61.000000    23.000000  1.000000      71.000000      3.000000\n",
              "median  58.000000    22.000000  1.000000      47.000000      1.000000\n",
              "std      1.045597     5.099088  0.500004      12.071265      0.521008"
            ]
          },
          "metadata": {
            "tags": []
          },
          "execution_count": 39
        }
      ]
    },
    {
      "cell_type": "code",
      "metadata": {
        "colab": {
          "base_uri": "https://localhost:8080/",
          "height": 265
        },
        "id": "dqbn7drVGSGi",
        "outputId": "84accd70-8bef-4c53-defc-e1e446b099ab"
      },
      "source": [
        "df[list(df.axes[1][2:])].plot()\n",
        "plt.show()"
      ],
      "execution_count": 48,
      "outputs": [
        {
          "output_type": "display_data",
          "data": {
            "image/png": "[encoded data removed]",
            "text/plain": [
              "<Figure size 432x288 with 1 Axes>"
            ]
          },
          "metadata": {
            "tags": [],
            "needs_background": "light"
          }
        }
      ]
    },
    {
      "cell_type": "code",
      "metadata": {
        "id": "UC3QQyhqz7gN"
      },
      "source": [
        "# Fix temperature\n",
        "last_temperature = df.Temperature.max()\n",
        "for i,temperature in enumerate(df[\"Temperature\"]):\n",
        "  if temperature > 15:\n",
        "    last_temperature = temperature\n",
        "  else:\n",
        "    df.Temperature[i] = last_temperature"
      ],
      "execution_count": 47,
      "outputs": []
    },
    {
      "cell_type": "markdown",
      "metadata": {
        "id": "kz_sSIPs_yZD"
      },
      "source": [
        "## Define & train model"
      ]
    },
    {
      "cell_type": "markdown",
      "metadata": {
        "id": "ODFRZrMr_mLN"
      },
      "source": [
        ""
      ]
    },
    {
      "cell_type": "markdown",
      "metadata": {
        "id": "ED0kArckHxtm"
      },
      "source": [
        "### Linear regression"
      ]
    },
    {
      "cell_type": "code",
      "metadata": {
        "colab": {
          "base_uri": "https://localhost:8080/",
          "height": 282
        },
        "id": "Aq9Y3qp4GsIz",
        "outputId": "a332bb2e-315c-4432-8092-ad0700f45645"
      },
      "source": [
        "from sklearn.linear_model import LinearRegression\n",
        "\n",
        "# linear regression\n",
        "y = df['Humidity'].to_numpy().reshape((-1,1))\n",
        "x = df['Temperature'].to_numpy().reshape((-1,1))\n",
        "\n",
        "model = LinearRegression()\n",
        "model.fit(x, y)\n",
        "\n",
        "r_sq = model.score(x, y)\n",
        "print('coefficient of determination:', r_sq)\n",
        "\n",
        "plt.plot(x, y, '+', label=\"real Humidity\")\n",
        "plt.plot(x, model.predict(x), '*', label=\"predicted Humidity\")\n",
        "plt.show()"
      ],
      "execution_count": null,
      "outputs": [
        {
          "output_type": "stream",
          "text": [
            "coefficient of determination: 0.9987117354330204\n"
          ],
          "name": "stdout"
        },
        {
          "output_type": "display_data",
          "data": {
            "image/png": "[encoded data removed]",
            "text/plain": [
              "<Figure size 432x288 with 1 Axes>"
            ]
          },
          "metadata": {
            "tags": [],
            "needs_background": "light"
          }
        }
      ]
    }
  ]
}